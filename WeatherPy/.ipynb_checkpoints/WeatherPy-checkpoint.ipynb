{
 "cells": [
  {
   "cell_type": "markdown",
   "metadata": {},
   "source": [
    "# WeatherPy\n",
    "----\n",
    "\n",
    "### Analysis\n",
    "* As expected, the weather becomes significantly warmer as one approaches the equator (0 Deg. Latitude). More interestingly, however, is the fact that the southern hemisphere tends to be warmer this time of year than the northern hemisphere. This may be due to the tilt of the earth.\n",
    "* There is no strong relationship between latitude and cloudiness. However, it is interesting to see that a strong band of cities sits at 0, 80, and 100% cloudiness.\n",
    "* There is no strong relationship between latitude and wind speed. However, in northern hemispheres there is a flurry of cities with over 20 mph of wind.\n",
    "\n",
    "---\n",
    "\n",
    "#### Note\n",
    "* Instructions have been included for each segment. You do not have to follow them exactly, but they are included to help you think through the steps."
   ]
  },
  {
   "cell_type": "code",
   "execution_count": 16,
   "metadata": {
    "scrolled": true
   },
   "outputs": [],
   "source": [
    "# Dependencies and Setup\n",
    "import matplotlib.pyplot as plt\n",
    "import pandas as pd\n",
    "import numpy as np\n",
    "import requests\n",
    "import time\n",
    "import openweathermapy as ow\n",
    "\n",
    "# Import API key\n",
    "from api_keys import wapi_key\n",
    "\n",
    "# Settings\n",
    "settings = {\"units\":\"imperial\",\"appid\":wapi_key}\n",
    "\n",
    "# Incorporated citipy to determine city based on latitude and longitude\n",
    "from citipy import citipy\n",
    "\n",
    "# Output File (CSV)\n",
    "output_data_file = \"output_data/cities.csv\"\n",
    "\n",
    "# Range of latitudes and longitudes\n",
    "lat_range = (-90, 90)\n",
    "lng_range = (-180, 180)"
   ]
  },
  {
   "cell_type": "markdown",
   "metadata": {},
   "source": [
    "## Generate Cities List"
   ]
  },
  {
   "cell_type": "code",
   "execution_count": 17,
   "metadata": {},
   "outputs": [
    {
     "data": {
      "text/plain": [
       "635"
      ]
     },
     "execution_count": 17,
     "metadata": {},
     "output_type": "execute_result"
    }
   ],
   "source": [
    "# List for holding lat_lngs and cities\n",
    "lat_lngs = []\n",
    "cities = []\n",
    "\n",
    "# Create a set of random lat and lng combinations\n",
    "lats = np.random.uniform(low=-90.000, high=90.000, size=1500)\n",
    "lngs = np.random.uniform(low=-180.000, high=180.000, size=1500)\n",
    "lat_lngs = zip(lats, lngs)\n",
    "\n",
    "# Identify nearest city for each lat, lng combination\n",
    "for lat_lng in lat_lngs:\n",
    "    city = citipy.nearest_city(lat_lng[0], lat_lng[1]).city_name\n",
    "    \n",
    "    # If the city is unique, then add it to a our cities list\n",
    "    if city not in cities:\n",
    "        cities.append(city)\n",
    "\n",
    "# Print the city count to confirm sufficient count\n",
    "len(cities)"
   ]
  },
  {
   "cell_type": "code",
   "execution_count": 18,
   "metadata": {},
   "outputs": [
    {
     "data": {
      "text/html": [
       "<div>\n",
       "<style scoped>\n",
       "    .dataframe tbody tr th:only-of-type {\n",
       "        vertical-align: middle;\n",
       "    }\n",
       "\n",
       "    .dataframe tbody tr th {\n",
       "        vertical-align: top;\n",
       "    }\n",
       "\n",
       "    .dataframe thead th {\n",
       "        text-align: right;\n",
       "    }\n",
       "</style>\n",
       "<table border=\"1\" class=\"dataframe\">\n",
       "  <thead>\n",
       "    <tr style=\"text-align: right;\">\n",
       "      <th></th>\n",
       "      <th>city</th>\n",
       "    </tr>\n",
       "  </thead>\n",
       "  <tbody>\n",
       "    <tr>\n",
       "      <th>0</th>\n",
       "      <td>kruisfontein</td>\n",
       "    </tr>\n",
       "    <tr>\n",
       "      <th>1</th>\n",
       "      <td>raudeberg</td>\n",
       "    </tr>\n",
       "    <tr>\n",
       "      <th>2</th>\n",
       "      <td>faanui</td>\n",
       "    </tr>\n",
       "    <tr>\n",
       "      <th>3</th>\n",
       "      <td>taolanaro</td>\n",
       "    </tr>\n",
       "    <tr>\n",
       "      <th>4</th>\n",
       "      <td>ushuaia</td>\n",
       "    </tr>\n",
       "  </tbody>\n",
       "</table>\n",
       "</div>"
      ],
      "text/plain": [
       "           city\n",
       "0  kruisfontein\n",
       "1     raudeberg\n",
       "2        faanui\n",
       "3     taolanaro\n",
       "4       ushuaia"
      ]
     },
     "execution_count": 18,
     "metadata": {},
     "output_type": "execute_result"
    }
   ],
   "source": [
    "cities_df = pd.DataFrame({'city':cities})\n",
    "cities_df.head()"
   ]
  },
  {
   "cell_type": "markdown",
   "metadata": {},
   "source": [
    "### Perform API Calls\n",
    "* Perform a weather check on each city using a series of successive API calls.\n",
    "* Include a print log of each city as it'sbeing processed (with the city number and city name).\n"
   ]
  },
  {
   "cell_type": "code",
   "execution_count": 20,
   "metadata": {},
   "outputs": [
    {
     "name": "stdout",
     "output_type": "stream",
     "text": [
      "city taolanaro not found\n",
      "city attawapiskat not found\n",
      "city nizhneyansk not found\n",
      "city illoqqortoormiut not found\n",
      "city mys shmidta not found\n",
      "city grand river south east not found\n",
      "city sentyabrskiy not found\n",
      "city tsihombe not found\n",
      "city umzimvubu not found\n",
      "city amderma not found\n",
      "city saleaula not found\n",
      "city belushya guba not found\n",
      "city toliary not found\n",
      "city marcona not found\n",
      "city tuysarkan not found\n",
      "city barentsburg not found\n",
      "city samusu not found\n",
      "city alotau not found\n",
      "city mahaicony not found\n",
      "city lolua not found\n",
      "city karamea not found\n",
      "city jubayl not found\n",
      "city shkotovo-22 not found\n",
      "city berikulskiy not found\n",
      "city bargal not found\n",
      "city bolungarvik not found\n",
      "city dinsor not found\n",
      "city falealupo not found\n",
      "city warqla not found\n",
      "city bababe not found\n",
      "city mudyuga not found\n",
      "city yingzhong not found\n",
      "city dzhusaly not found\n",
      "city ruatoria not found\n",
      "city dipkarpaz not found\n",
      "city maykain not found\n",
      "city bur gabo not found\n",
      "city toungoo not found\n",
      "city palabuhanratu not found\n",
      "city sataua not found\n",
      "city crab hill not found\n",
      "city meyungs not found\n",
      "city halalo not found\n"
     ]
    }
   ],
   "source": [
    "weather_data = []\n",
    "\n",
    "for index, row in cities_df.iterrows():\n",
    "    # Try to grab weather information if they are available in OpenWeatherMap\n",
    "    try:\n",
    "        weather_data.append(ow.get_current(row[0],**settings))\n",
    "        print(f'Processing Record {index} city: {row[0]} ! Appending weather')\n",
    "        \n",
    "    # Handle exceptions for not available cities\n",
    "    except:\n",
    "        print(f'city {row[0]} not found. Skipping...')\n",
    "print(\"--------------------------\")\n",
    "print(\"Data Retrieval Complete\")\n",
    "print(\"--------------------------\")"
   ]
  },
  {
   "cell_type": "markdown",
   "metadata": {},
   "source": [
    "### Convert Raw Data to DataFrame\n",
    "* Export the city data into a .csv.\n",
    "* Display the DataFrame"
   ]
  },
  {
   "cell_type": "code",
   "execution_count": 72,
   "metadata": {},
   "outputs": [
    {
     "data": {
      "text/html": [
       "<div>\n",
       "<style scoped>\n",
       "    .dataframe tbody tr th:only-of-type {\n",
       "        vertical-align: middle;\n",
       "    }\n",
       "\n",
       "    .dataframe tbody tr th {\n",
       "        vertical-align: top;\n",
       "    }\n",
       "\n",
       "    .dataframe thead th {\n",
       "        text-align: right;\n",
       "    }\n",
       "</style>\n",
       "<table border=\"1\" class=\"dataframe\">\n",
       "  <thead>\n",
       "    <tr style=\"text-align: right;\">\n",
       "      <th></th>\n",
       "      <th>City</th>\n",
       "      <th>Cloudiness</th>\n",
       "      <th>Country</th>\n",
       "      <th>Date</th>\n",
       "      <th>Humidity</th>\n",
       "      <th>Lat</th>\n",
       "      <th>Lng</th>\n",
       "      <th>Max Temp</th>\n",
       "      <th>Wind Speed</th>\n",
       "    </tr>\n",
       "  </thead>\n",
       "  <tbody>\n",
       "    <tr>\n",
       "      <th>0</th>\n",
       "      <td>Kruisfontein</td>\n",
       "      <td>100</td>\n",
       "      <td>ZA</td>\n",
       "      <td>1604583740</td>\n",
       "      <td>87</td>\n",
       "      <td>-34.00</td>\n",
       "      <td>24.73</td>\n",
       "      <td>72.00</td>\n",
       "      <td>8.01</td>\n",
       "    </tr>\n",
       "    <tr>\n",
       "      <th>1</th>\n",
       "      <td>Raudeberg</td>\n",
       "      <td>90</td>\n",
       "      <td>NO</td>\n",
       "      <td>1604583740</td>\n",
       "      <td>93</td>\n",
       "      <td>61.99</td>\n",
       "      <td>5.14</td>\n",
       "      <td>53.60</td>\n",
       "      <td>16.11</td>\n",
       "    </tr>\n",
       "    <tr>\n",
       "      <th>2</th>\n",
       "      <td>Faanui</td>\n",
       "      <td>54</td>\n",
       "      <td>PF</td>\n",
       "      <td>1604583740</td>\n",
       "      <td>83</td>\n",
       "      <td>-16.48</td>\n",
       "      <td>-151.75</td>\n",
       "      <td>78.76</td>\n",
       "      <td>13.20</td>\n",
       "    </tr>\n",
       "    <tr>\n",
       "      <th>3</th>\n",
       "      <td>Ushuaia</td>\n",
       "      <td>75</td>\n",
       "      <td>AR</td>\n",
       "      <td>1604583740</td>\n",
       "      <td>66</td>\n",
       "      <td>-54.80</td>\n",
       "      <td>-68.30</td>\n",
       "      <td>50.00</td>\n",
       "      <td>24.16</td>\n",
       "    </tr>\n",
       "    <tr>\n",
       "      <th>4</th>\n",
       "      <td>Saint George</td>\n",
       "      <td>1</td>\n",
       "      <td>US</td>\n",
       "      <td>1604583453</td>\n",
       "      <td>34</td>\n",
       "      <td>37.10</td>\n",
       "      <td>-113.58</td>\n",
       "      <td>51.80</td>\n",
       "      <td>3.20</td>\n",
       "    </tr>\n",
       "  </tbody>\n",
       "</table>\n",
       "</div>"
      ],
      "text/plain": [
       "           City  Cloudiness Country        Date  Humidity    Lat     Lng  \\\n",
       "0  Kruisfontein         100      ZA  1604583740        87 -34.00   24.73   \n",
       "1     Raudeberg          90      NO  1604583740        93  61.99    5.14   \n",
       "2        Faanui          54      PF  1604583740        83 -16.48 -151.75   \n",
       "3       Ushuaia          75      AR  1604583740        66 -54.80  -68.30   \n",
       "4  Saint George           1      US  1604583453        34  37.10 -113.58   \n",
       "\n",
       "   Max Temp  Wind Speed  \n",
       "0     72.00        8.01  \n",
       "1     53.60       16.11  \n",
       "2     78.76       13.20  \n",
       "3     50.00       24.16  \n",
       "4     51.80        3.20  "
      ]
     },
     "execution_count": 72,
     "metadata": {},
     "output_type": "execute_result"
    }
   ],
   "source": [
    "# Create lists to store relevant data\n",
    "city = []\n",
    "country = []\n",
    "date = []\n",
    "lat = []\n",
    "lon = []\n",
    "temp_max = []\n",
    "humidity = []\n",
    "cloudiness = []\n",
    "wind_speed = []\n",
    "\n",
    "# Loop thru the response list\n",
    "for i in range(len(weather_data)):\n",
    "    city.append(weather_data[i]['name'])\n",
    "    date.append(weather_data[i]['dt'])\n",
    "    country.append(weather_data[i]['sys']['country'])\n",
    "    lat.append(weather_data[i]['coord']['lat'])\n",
    "    lon.append(weather_data[i]['coord']['lon'])\n",
    "    temp_max.append(weather_data[i]['main']['temp_max'])\n",
    "    humidity.append(weather_data[i]['main']['humidity'])\n",
    "    cloudiness.append(weather_data[i]['clouds']['all'])\n",
    "    wind_speed.append(weather_data[i]['wind']['speed'])\n",
    "\n",
    "# Convert raw data to DataFrame\n",
    "weather_df = pd.DataFrame({\"City\" : city,\n",
    "                           \"Cloudiness\": cloudiness,\n",
    "                           \"Country\":country,\n",
    "                           \"Date\": date,\n",
    "                           \"Humidity\" : humidity,\n",
    "                           \"Lat\": lat,\n",
    "                           \"Lng\": lon,\n",
    "                           \"Max Temp\": temp_max,\n",
    "                           \"Wind Speed\": wind_speed})\n",
    "weather_df.head()\n",
    "\n",
    "# Export the data into csv\n",
    "cities_df.to_csv('out.csv',index=False)"
   ]
  },
  {
   "cell_type": "code",
   "execution_count": 52,
   "metadata": {},
   "outputs": [],
   "source": []
  },
  {
   "cell_type": "markdown",
   "metadata": {},
   "source": [
    "### Plotting the Data\n",
    "* Use proper labeling of the plots using plot titles (including date of analysis) and axes labels.\n",
    "* Save the plotted figures as .pngs."
   ]
  },
  {
   "cell_type": "markdown",
   "metadata": {},
   "source": [
    "#### Latitude vs. Temperature Plot"
   ]
  },
  {
   "cell_type": "code",
   "execution_count": null,
   "metadata": {},
   "outputs": [],
   "source": []
  },
  {
   "cell_type": "markdown",
   "metadata": {},
   "source": [
    "#### Latitude vs. Humidity Plot"
   ]
  },
  {
   "cell_type": "code",
   "execution_count": null,
   "metadata": {},
   "outputs": [],
   "source": []
  },
  {
   "cell_type": "markdown",
   "metadata": {},
   "source": [
    "#### Latitude vs. Cloudiness Plot"
   ]
  },
  {
   "cell_type": "code",
   "execution_count": null,
   "metadata": {},
   "outputs": [],
   "source": []
  },
  {
   "cell_type": "markdown",
   "metadata": {},
   "source": [
    "#### Latitude vs. Wind Speed Plot"
   ]
  },
  {
   "cell_type": "code",
   "execution_count": null,
   "metadata": {},
   "outputs": [],
   "source": []
  },
  {
   "cell_type": "code",
   "execution_count": null,
   "metadata": {},
   "outputs": [],
   "source": []
  }
 ],
 "metadata": {
  "anaconda-cloud": {},
  "kernelspec": {
   "display_name": "Python 3",
   "language": "python",
   "name": "python3"
  },
  "language_info": {
   "codemirror_mode": {
    "name": "ipython",
    "version": 3
   },
   "file_extension": ".py",
   "mimetype": "text/x-python",
   "name": "python",
   "nbconvert_exporter": "python",
   "pygments_lexer": "ipython3",
   "version": "3.6.10"
  }
 },
 "nbformat": 4,
 "nbformat_minor": 2
}
